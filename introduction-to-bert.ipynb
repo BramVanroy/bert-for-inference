{
 "cells": [
  {
   "cell_type": "markdown",
   "metadata": {},
   "source": [
    "# An introduction to inference with BERT\n",
    "\n",
    "This notebook gives an example of how [BERT](https://arxiv.org/abs/1810.04805) can be used to extract\n",
    "sentence embeddings while at the same time giving some information about the model. Note that it does not try\n",
    "to be exhaustive. In some places, links are given as suggestions for further reading. Also note that these days,\n",
    "BERT isn't state of the art anymore. However, the methodology used here can be used in other models such as RoBERTa\n",
    "with minimal changes. Be careful, though, because the differences between model APIs, however small, are incredibly\n",
    "important. For instance, the position of the classification token is not the same for all models. Read the paper,\n",
    "the documentation, or - if you're up for it - the source code! The latter might be a challenge at first, but you \n",
    "learn a lot from it."
   ]
  },
  {
   "cell_type": "code",
   "execution_count": 1,
   "metadata": {
    "pycharm": {
     "is_executing": false,
     "name": "#%%\n"
    }
   },
   "outputs": [
    {
     "name": "stderr",
     "text": [
      "To use data.metrics please install scikit-learn. See https://scikit-learn.org/stable/index.html\n"
     ],
     "output_type": "stream"
    }
   ],
   "source": [
    "import torch\n",
    "from transformers import BertModel, BertTokenizer"
   ]
  },
  {
   "cell_type": "markdown",
   "metadata": {},
   "source": [
    "## The tokenizer\n",
    "\n",
    "A deep learning model works with tensors. Tensors are (basically) vectors. Vectors are (basically) a bunch of\n",
    "numbers. To get started, then, the input text (string) needs to be converted into some data type (numbers)\n",
    "that the model can use. This is done by the tokenizer."
   ]
  },
  {
   "cell_type": "code",
   "execution_count": 2,
   "metadata": {
    "pycharm": {
     "is_executing": false,
     "name": "#%%\n"
    }
   },
   "outputs": [],
   "source": [
    "# Initialize the tokenizer with a pretrained model\n",
    "tokenizer = BertTokenizer.from_pretrained('bert-base-uncased')"
   ]
  },
  {
   "cell_type": "markdown",
   "metadata": {
    "pycharm": {
     "name": "#%% md\n"
    }
   },
   "source": [
    "During pretraining, the tokenizer has been \"trained\" as well. It has generated a vocabulary that it \"knows\". Each word \n",
    "has been assigned an index (a number) and that number can then be used in the model. To counter the annoying problem of \n",
    "words that the tokenizer doesn't know yet (out-of-vocabulary or OOV), a special technique is used that ensures that the\n",
    "tokenizer has learnt \"subword units\". That should mean that when using the pretrained models, you won't run into OOV\n",
    "problems. When the tokenizer does not recognize a word (it is not in its vocabulary) it will try to split that word up \n",
    "into smaller parts that it does know. The BERT tokenizer uses [WordPiece](https://arxiv.org/pdf/1609.08144.pdf)\n",
    "to split tokens. As an example, you'll see that `granola` is split into `gran` and `##ola` where `##` indicates the\n",
    "start of the substring."
   ]
  },
  {
   "cell_type": "code",
   "execution_count": 3,
   "metadata": {
    "pycharm": {
     "is_executing": false
    }
   },
   "outputs": [
    {
     "name": "stdout",
     "text": [
      "granola_ids [101, 12604, 6030, 6963, 102]\ntype of granola_ids <class 'list'>\ngranola_tokens ['[CLS]', 'gran', '##ola', 'bars', '[SEP]']\n"
     ],
     "output_type": "stream"
    }
   ],
   "source": [
    "# Convert the string \"granola bars\" to tokenized vocabulary IDs\n",
    "granola_ids = tokenizer.encode('granola bars')\n",
    "# Print the IDs\n",
    "print('granola_ids', granola_ids)\n",
    "print('type of granola_ids', type(granola_ids))\n",
    "# Convert the IDs to the actual vocabulary item\n",
    "# Notice how the subword unit (suffix) starts with \"##\" to indicate \n",
    "# that it is part of the previous string\n",
    "print('granola_tokens', tokenizer.convert_ids_to_tokens(granola_ids))"
   ]
  },
  {
   "cell_type": "markdown",
   "metadata": {
    "pycharm": {
     "is_executing": false,
     "name": "#%% md\n"
    }
   },
   "source": [
    "You will probably have noticed the so-called \"special tokens\" [CLS] and [SEP]. These tokens are added auomatically by \n",
    "the `.encode()` method so we don't have to worry about them. The first one is a classification token which has been \n",
    "pretrained. It is specifically inserted for any sort of classification task. So instead of having to average of all \n",
    "tokens and use that as a sentence representation, it is recommended to just take the output of the [CLS] which then \n",
    "represents the whole sentence. [SEP], on the other hand, is inserted as a separator between multiple instances. We will\n",
    "not use that here, but it used for things like next sentence prediction where it is a separator between the current and \n",
    "the next sentence. It is especially important to remember the [CLS] token as it can play a great role in classification \n",
    "and regression tasks. \n",
    "\n",
    "We almost have the correct data type to get started. As we saw above, the data type of the token IDs is a list of\n",
    "integers. In this notebook we use the `transformers` library in combination with PyTorch, which works with tensors.\n",
    "A tensor is a special type of optimised list which is typically used in deep learning. To convert our token IDs to a\n",
    "tensor, we can simply put the list in a tensor constructor. Here, we use a `LongTensor` which is used for integers.\n",
    "For floating-point numbers, we'd typically use a `FloatTensor` or just `Tensor`. The `.encode()` method of the \n",
    "tokenizer can return a tensor instead of a list by passing the parameter `return_tensors='pt'` but for illustrative\n",
    "purposes, we will do the conversion from a list to a tensor manually."
   ]
  },
  {
   "cell_type": "code",
   "execution_count": 4,
   "metadata": {
    "pycharm": {
     "is_executing": false,
     "name": "#%%\n"
    }
   },
   "outputs": [
    {
     "name": "stdout",
     "text": [
      "granola_ids tensor([  101, 12604,  6030,  6963,   102])\ntype of granola_ids <class 'torch.Tensor'>\n"
     ],
     "output_type": "stream"
    }
   ],
   "source": [
    "# Convert the list of IDs to a tensor of IDs \n",
    "granola_ids = torch.LongTensor(granola_ids)\n",
    "# Print the IDs\n",
    "print('granola_ids', granola_ids)\n",
    "print('type of granola_ids', type(granola_ids))"
   ]
  },
  {
   "cell_type": "markdown",
   "metadata": {
    "pycharm": {
     "name": "#%% md\n"
    }
   },
   "source": [
    "## The model\n",
    "Now that we have preprocessed our input string into a tensor of IDs, we can feed this to the model. Remember that the \n",
    "IDs are the IDs of a token in the tokenizer's vocabulary. The model \"knows\" which words are being processed because it\n",
    "\"knows\" which token belongs to which ID. In BERT, and in most - if not all - current transformer language models, the\n",
    "first layer is an embedding layer. Each token ID has a embeddings appointed to it. In BERT, the embeddings are the sum\n",
    "of three types of embeddings: the token embedding, the segment embedding, and the position embedding. The token\n",
    "embedding is a value for the given token, the segment embedding indicates whether the segment is the first or the\n",
    "(optional) second one, and the positional embedding distinguishes the position in the input. Below you find a figure\n",
    "from the BERT paper. (See how playing is split in \"play\" and \"##ing\"?) Note that in our case, where we just use BERT\n",
    "for inference of a single sentence, the segmentation embedding is of no importance. For more information, see\n",
    "[this Medium article](https://medium.com/@_init_/why-bert-has-3-embedding-layers-and-their-implementation-details-9c261108e28a).  We'll come back to the model architecture later on.\n",
    "\n",
    "![BERT embeddings visualization](img/bert-embeddings.png)\n",
    "\n",
    "(For a very detailed and visual explanation of the whole BERT model, have a look at the explanations on\n",
    "[Jay Alammar's homepage](http://jalammar.github.io/). In particular the \"Illustrated transformer\" is very interesting.)"
   ]
  },
  {
   "cell_type": "markdown",
   "metadata": {},
   "source": [
    "To get started, we first need to initialize the model. Just like the tokenizer, the model is pretrained which makes it\n",
    "very easy for us to just use the pretrained language model to get some token or sentence representations out of it.\n",
    "Note how we use the same pretrained model as the tokenizer uses (`bert-base-uncased`). This is the smaller BERT model\n",
    "that has been trained on lower case text. Because the model has been trained on lower case text, it does not know cased\n",
    "text. You may hav enoticed that the tokenizer automatically lowercases the text for us. Whether to use a cased or\n",
    "uncased language model really depends on the task. If you think that casing matters (e.g. for NER), you may want to\n",
    "opt for a cased model, otherwise casing might just add noise.\n",
    "\n",
    "In the example below, an additional argument has been given to the model initialisation. `output_hidden_states` will\n",
    "give us more output information. By default, a `BertModel` will return a tuple but the contents of that tuple differ\n",
    "depending on the configuration of the model. When passing `output_hidden_states=True`, the tuple will contain\n",
    "(in order; shape in brackets):\n",
    "\n",
    "1. the last hidden state `(batch_size, sequence_length, hidden_size)`\n",
    "2. the pooler_output of the classification token `(batch_size, hidden_size)`\n",
    "3. the hidden_states of the outputs of the model at each layer and the initial embedding outputs\n",
    "   `(batch_size, sequence_length, hidden_size)`\n",
    "\n",
    "Graphic cards (GPUs) are much better at doing operations on tensors than a CPU is. Therefore, we wish to run our \n",
    "computations on the GPU if it is available. Note that you need to have a GPU available as well as CUDA, and a\n",
    "GPU-accelerated torch version. To increase the calculation speed, we have to move our model to the correct device:\n",
    "if it's available we'll move the model `.to()` the GPU, otherwise it'll stay on the CPU. It is important to remember \n",
    "that the model and the data to process need to be on the same device. This means that we will have to move our \n",
    "`granola_ids` to the same device as the model, too.\n",
    "\n",
    "Finally, we also set the model to evaluation mode (`.eval`) in contrast to training mode (`.train()`). In evluation\n",
    "mode, the model's batchnorm and dropout layers will work in `eval()` mode, e.g. disabling dropout, which you only want\n",
    "during training."
   ]
  },
  {
   "cell_type": "code",
   "execution_count": 5,
   "metadata": {
    "pycharm": {
     "is_executing": false,
     "name": "#%%\n"
    }
   },
   "outputs": [
    {
     "data": {
      "text/plain": "BertModel(\n  (embeddings): BertEmbeddings(\n    (word_embeddings): Embedding(30522, 768, padding_idx=0)\n    (position_embeddings): Embedding(512, 768)\n    (token_type_embeddings): Embedding(2, 768)\n    (LayerNorm): LayerNorm((768,), eps=1e-12, elementwise_affine=True)\n    (dropout): Dropout(p=0.1, inplace=False)\n  )\n  (encoder): BertEncoder(\n    (layer): ModuleList(\n      (0): BertLayer(\n        (attention): BertAttention(\n          (self): BertSelfAttention(\n            (query): Linear(in_features=768, out_features=768, bias=True)\n            (key): Linear(in_features=768, out_features=768, bias=True)\n            (value): Linear(in_features=768, out_features=768, bias=True)\n            (dropout): Dropout(p=0.1, inplace=False)\n          )\n          (output): BertSelfOutput(\n            (dense): Linear(in_features=768, out_features=768, bias=True)\n            (LayerNorm): LayerNorm((768,), eps=1e-12, elementwise_affine=True)\n            (dropout): Dropout(p=0.1, inplace=False)\n          )\n        )\n        (intermediate): BertIntermediate(\n          (dense): Linear(in_features=768, out_features=3072, bias=True)\n        )\n        (output): BertOutput(\n          (dense): Linear(in_features=3072, out_features=768, bias=True)\n          (LayerNorm): LayerNorm((768,), eps=1e-12, elementwise_affine=True)\n          (dropout): Dropout(p=0.1, inplace=False)\n        )\n      )\n      (1): BertLayer(\n        (attention): BertAttention(\n          (self): BertSelfAttention(\n            (query): Linear(in_features=768, out_features=768, bias=True)\n            (key): Linear(in_features=768, out_features=768, bias=True)\n            (value): Linear(in_features=768, out_features=768, bias=True)\n            (dropout): Dropout(p=0.1, inplace=False)\n          )\n          (output): BertSelfOutput(\n            (dense): Linear(in_features=768, out_features=768, bias=True)\n            (LayerNorm): LayerNorm((768,), eps=1e-12, elementwise_affine=True)\n            (dropout): Dropout(p=0.1, inplace=False)\n          )\n        )\n        (intermediate): BertIntermediate(\n          (dense): Linear(in_features=768, out_features=3072, bias=True)\n        )\n        (output): BertOutput(\n          (dense): Linear(in_features=3072, out_features=768, bias=True)\n          (LayerNorm): LayerNorm((768,), eps=1e-12, elementwise_affine=True)\n          (dropout): Dropout(p=0.1, inplace=False)\n        )\n      )\n      (2): BertLayer(\n        (attention): BertAttention(\n          (self): BertSelfAttention(\n            (query): Linear(in_features=768, out_features=768, bias=True)\n            (key): Linear(in_features=768, out_features=768, bias=True)\n            (value): Linear(in_features=768, out_features=768, bias=True)\n            (dropout): Dropout(p=0.1, inplace=False)\n          )\n          (output): BertSelfOutput(\n            (dense): Linear(in_features=768, out_features=768, bias=True)\n            (LayerNorm): LayerNorm((768,), eps=1e-12, elementwise_affine=True)\n            (dropout): Dropout(p=0.1, inplace=False)\n          )\n        )\n        (intermediate): BertIntermediate(\n          (dense): Linear(in_features=768, out_features=3072, bias=True)\n        )\n        (output): BertOutput(\n          (dense): Linear(in_features=3072, out_features=768, bias=True)\n          (LayerNorm): LayerNorm((768,), eps=1e-12, elementwise_affine=True)\n          (dropout): Dropout(p=0.1, inplace=False)\n        )\n      )\n      (3): BertLayer(\n        (attention): BertAttention(\n          (self): BertSelfAttention(\n            (query): Linear(in_features=768, out_features=768, bias=True)\n            (key): Linear(in_features=768, out_features=768, bias=True)\n            (value): Linear(in_features=768, out_features=768, bias=True)\n            (dropout): Dropout(p=0.1, inplace=False)\n          )\n          (output): BertSelfOutput(\n            (dense): Linear(in_features=768, out_features=768, bias=True)\n            (LayerNorm): LayerNorm((768,), eps=1e-12, elementwise_affine=True)\n            (dropout): Dropout(p=0.1, inplace=False)\n          )\n        )\n        (intermediate): BertIntermediate(\n          (dense): Linear(in_features=768, out_features=3072, bias=True)\n        )\n        (output): BertOutput(\n          (dense): Linear(in_features=3072, out_features=768, bias=True)\n          (LayerNorm): LayerNorm((768,), eps=1e-12, elementwise_affine=True)\n          (dropout): Dropout(p=0.1, inplace=False)\n        )\n      )\n      (4): BertLayer(\n        (attention): BertAttention(\n          (self): BertSelfAttention(\n            (query): Linear(in_features=768, out_features=768, bias=True)\n            (key): Linear(in_features=768, out_features=768, bias=True)\n            (value): Linear(in_features=768, out_features=768, bias=True)\n            (dropout): Dropout(p=0.1, inplace=False)\n          )\n          (output): BertSelfOutput(\n            (dense): Linear(in_features=768, out_features=768, bias=True)\n            (LayerNorm): LayerNorm((768,), eps=1e-12, elementwise_affine=True)\n            (dropout): Dropout(p=0.1, inplace=False)\n          )\n        )\n        (intermediate): BertIntermediate(\n          (dense): Linear(in_features=768, out_features=3072, bias=True)\n        )\n        (output): BertOutput(\n          (dense): Linear(in_features=3072, out_features=768, bias=True)\n          (LayerNorm): LayerNorm((768,), eps=1e-12, elementwise_affine=True)\n          (dropout): Dropout(p=0.1, inplace=False)\n        )\n      )\n      (5): BertLayer(\n        (attention): BertAttention(\n          (self): BertSelfAttention(\n            (query): Linear(in_features=768, out_features=768, bias=True)\n            (key): Linear(in_features=768, out_features=768, bias=True)\n            (value): Linear(in_features=768, out_features=768, bias=True)\n            (dropout): Dropout(p=0.1, inplace=False)\n          )\n          (output): BertSelfOutput(\n            (dense): Linear(in_features=768, out_features=768, bias=True)\n            (LayerNorm): LayerNorm((768,), eps=1e-12, elementwise_affine=True)\n            (dropout): Dropout(p=0.1, inplace=False)\n          )\n        )\n        (intermediate): BertIntermediate(\n          (dense): Linear(in_features=768, out_features=3072, bias=True)\n        )\n        (output): BertOutput(\n          (dense): Linear(in_features=3072, out_features=768, bias=True)\n          (LayerNorm): LayerNorm((768,), eps=1e-12, elementwise_affine=True)\n          (dropout): Dropout(p=0.1, inplace=False)\n        )\n      )\n      (6): BertLayer(\n        (attention): BertAttention(\n          (self): BertSelfAttention(\n            (query): Linear(in_features=768, out_features=768, bias=True)\n            (key): Linear(in_features=768, out_features=768, bias=True)\n            (value): Linear(in_features=768, out_features=768, bias=True)\n            (dropout): Dropout(p=0.1, inplace=False)\n          )\n          (output): BertSelfOutput(\n            (dense): Linear(in_features=768, out_features=768, bias=True)\n            (LayerNorm): LayerNorm((768,), eps=1e-12, elementwise_affine=True)\n            (dropout): Dropout(p=0.1, inplace=False)\n          )\n        )\n        (intermediate): BertIntermediate(\n          (dense): Linear(in_features=768, out_features=3072, bias=True)\n        )\n        (output): BertOutput(\n          (dense): Linear(in_features=3072, out_features=768, bias=True)\n          (LayerNorm): LayerNorm((768,), eps=1e-12, elementwise_affine=True)\n          (dropout): Dropout(p=0.1, inplace=False)\n        )\n      )\n      (7): BertLayer(\n        (attention): BertAttention(\n          (self): BertSelfAttention(\n            (query): Linear(in_features=768, out_features=768, bias=True)\n            (key): Linear(in_features=768, out_features=768, bias=True)\n            (value): Linear(in_features=768, out_features=768, bias=True)\n            (dropout): Dropout(p=0.1, inplace=False)\n          )\n          (output): BertSelfOutput(\n            (dense): Linear(in_features=768, out_features=768, bias=True)\n            (LayerNorm): LayerNorm((768,), eps=1e-12, elementwise_affine=True)\n            (dropout): Dropout(p=0.1, inplace=False)\n          )\n        )\n        (intermediate): BertIntermediate(\n          (dense): Linear(in_features=768, out_features=3072, bias=True)\n        )\n        (output): BertOutput(\n          (dense): Linear(in_features=3072, out_features=768, bias=True)\n          (LayerNorm): LayerNorm((768,), eps=1e-12, elementwise_affine=True)\n          (dropout): Dropout(p=0.1, inplace=False)\n        )\n      )\n      (8): BertLayer(\n        (attention): BertAttention(\n          (self): BertSelfAttention(\n            (query): Linear(in_features=768, out_features=768, bias=True)\n            (key): Linear(in_features=768, out_features=768, bias=True)\n            (value): Linear(in_features=768, out_features=768, bias=True)\n            (dropout): Dropout(p=0.1, inplace=False)\n          )\n          (output): BertSelfOutput(\n            (dense): Linear(in_features=768, out_features=768, bias=True)\n            (LayerNorm): LayerNorm((768,), eps=1e-12, elementwise_affine=True)\n            (dropout): Dropout(p=0.1, inplace=False)\n          )\n        )\n        (intermediate): BertIntermediate(\n          (dense): Linear(in_features=768, out_features=3072, bias=True)\n        )\n        (output): BertOutput(\n          (dense): Linear(in_features=3072, out_features=768, bias=True)\n          (LayerNorm): LayerNorm((768,), eps=1e-12, elementwise_affine=True)\n          (dropout): Dropout(p=0.1, inplace=False)\n        )\n      )\n      (9): BertLayer(\n        (attention): BertAttention(\n          (self): BertSelfAttention(\n            (query): Linear(in_features=768, out_features=768, bias=True)\n            (key): Linear(in_features=768, out_features=768, bias=True)\n            (value): Linear(in_features=768, out_features=768, bias=True)\n            (dropout): Dropout(p=0.1, inplace=False)\n          )\n          (output): BertSelfOutput(\n            (dense): Linear(in_features=768, out_features=768, bias=True)\n            (LayerNorm): LayerNorm((768,), eps=1e-12, elementwise_affine=True)\n            (dropout): Dropout(p=0.1, inplace=False)\n          )\n        )\n        (intermediate): BertIntermediate(\n          (dense): Linear(in_features=768, out_features=3072, bias=True)\n        )\n        (output): BertOutput(\n          (dense): Linear(in_features=3072, out_features=768, bias=True)\n          (LayerNorm): LayerNorm((768,), eps=1e-12, elementwise_affine=True)\n          (dropout): Dropout(p=0.1, inplace=False)\n        )\n      )\n      (10): BertLayer(\n        (attention): BertAttention(\n          (self): BertSelfAttention(\n            (query): Linear(in_features=768, out_features=768, bias=True)\n            (key): Linear(in_features=768, out_features=768, bias=True)\n            (value): Linear(in_features=768, out_features=768, bias=True)\n            (dropout): Dropout(p=0.1, inplace=False)\n          )\n          (output): BertSelfOutput(\n            (dense): Linear(in_features=768, out_features=768, bias=True)\n            (LayerNorm): LayerNorm((768,), eps=1e-12, elementwise_affine=True)\n            (dropout): Dropout(p=0.1, inplace=False)\n          )\n        )\n        (intermediate): BertIntermediate(\n          (dense): Linear(in_features=768, out_features=3072, bias=True)\n        )\n        (output): BertOutput(\n          (dense): Linear(in_features=3072, out_features=768, bias=True)\n          (LayerNorm): LayerNorm((768,), eps=1e-12, elementwise_affine=True)\n          (dropout): Dropout(p=0.1, inplace=False)\n        )\n      )\n      (11): BertLayer(\n        (attention): BertAttention(\n          (self): BertSelfAttention(\n            (query): Linear(in_features=768, out_features=768, bias=True)\n            (key): Linear(in_features=768, out_features=768, bias=True)\n            (value): Linear(in_features=768, out_features=768, bias=True)\n            (dropout): Dropout(p=0.1, inplace=False)\n          )\n          (output): BertSelfOutput(\n            (dense): Linear(in_features=768, out_features=768, bias=True)\n            (LayerNorm): LayerNorm((768,), eps=1e-12, elementwise_affine=True)\n            (dropout): Dropout(p=0.1, inplace=False)\n          )\n        )\n        (intermediate): BertIntermediate(\n          (dense): Linear(in_features=768, out_features=3072, bias=True)\n        )\n        (output): BertOutput(\n          (dense): Linear(in_features=3072, out_features=768, bias=True)\n          (LayerNorm): LayerNorm((768,), eps=1e-12, elementwise_affine=True)\n          (dropout): Dropout(p=0.1, inplace=False)\n        )\n      )\n    )\n  )\n  (pooler): BertPooler(\n    (dense): Linear(in_features=768, out_features=768, bias=True)\n    (activation): Tanh()\n  )\n)"
     },
     "metadata": {},
     "output_type": "execute_result",
     "execution_count": 5
    }
   ],
   "source": [
    "model = BertModel.from_pretrained('bert-base-uncased', output_hidden_states=True)\n",
    "# Set the device to GPU (cuda) if available, otherwise stick with CPU\n",
    "device = 'cuda' if torch.cuda.is_available() else 'cpu'\n",
    "\n",
    "model = model.to(device)\n",
    "granola_ids = granola_ids.to(device)\n",
    "\n",
    "model.eval()"
   ]
  },
  {
   "cell_type": "markdown",
   "metadata": {
    "pycharm": {
     "name": "#%% md\n"
    }
   },
   "source": [
    "## Inference\n",
    "The model has been initialized, and the input string has been converted into a tensor. A language model (such as \n",
    "`BertModel` above) has a `forward()` method that is called automatically when calling the object. The forward method \n",
    "basically pushes a given input tensor forward through the model and then returns the output. Since we're only doing\n",
    "inference and not training or fine-tuning the model, this is the only step that involves the model directly to get \n",
    "output. So we don't need to optimize the model (calculate gradients, propagating back). That's quite simple, isn't it?\n",
    "One pecularity is that we set `torch.no_grad()`. This tells the model that we won't be doing any gradient \n",
    "calculation/backpropagation. Ultimately, it makes inference faster and more memory-efficient. You would typically use\n",
    "`model.eval()` (see above) and `torch.no_grad()` together for evaluation and testing of your model. When training the\n",
    "model should be set to `model.train()` and `torch.no_grad()` should *not* be used.\n",
    "\n",
    "In the cell below, you'll see that there's a strange method called `.unsqueeze()`. It \"unsqueezes\" a tensor by adding \n",
    "an extra dimension. In our case, you'll see that our granola tensor of size `(5,)` turns into a different shape of\n",
    "`(1, 5)` where `1` is the dimension of the sentence. These two dimensions are required by the model: it is optimised\n",
    "to train on *batches*. The next paragraph goes into a bit more technical detail but is not required to understand this \n",
    "notebook.\n",
    "\n",
    "A batch consists of multiple input texts at \"the same time\" (typically of the power of two, e.g. 64). With a batch size\n",
    "of 64 (64 sentences at once), the batch size would be `(64, n)` where `64` is the number of sentences, and `n` the\n",
    "sequence length. In this notebook, where we only ever use one input, the following is not important, but if you ever\n",
    "want to fine-tune a model, you'll want to work with batches since the gradient calculation will be better for large\n",
    "batches. In such cases, `n` needs to be the same for all entries; you cannot have one sequence of 5 items and one of\n",
    "12 items. That is where padding comes in - but that is a story for another day. For now, you can remember that the\n",
    "input size of the model needs to be `(n_input_sentences, seq_len)` where `seq_len` can be determined in different ways.\n",
    "Two popular choices are: using the longest text in the batch as `seq_len` (e.g. 12) and padding shorter texts up to\n",
    "this length, or setting a fixed maximal sequence length for the model (typically 512) and pad all items up to this\n",
    "length. The latter approach is easier to implement but is not memory-efficient and is computationally heavier. The\n",
    "choice, as always, is yours."
   ]
  },
  {
   "cell_type": "code",
   "execution_count": 6,
   "metadata": {
    "pycharm": {
     "is_executing": false,
     "name": "#%%\n"
    }
   },
   "outputs": [
    {
     "name": "stdout",
     "text": [
      "torch.Size([5])\ntorch.Size([1, 5])\n<class 'torch.Tensor'>\n",
      "<class 'tuple'>\n3\n13\n"
     ],
     "output_type": "stream"
    }
   ],
   "source": [
    "print(granola_ids.size())\n",
    "# unsqueeze IDs to get batch size of 1 as added dimension\n",
    "granola_ids = granola_ids.unsqueeze(0)\n",
    "print(granola_ids.size())\n",
    "\n",
    "print(type(granola_ids))\n",
    "with torch.no_grad():\n",
    "    out = model(input_ids=granola_ids)\n",
    "\n",
    "# the output is a tuple\n",
    "print(type(out))\n",
    "# the tuple contains three elements as explained above)\n",
    "print(len(out))\n",
    "# we only want the hidden_states\n",
    "hidden_states = out[2]\n",
    "print(len(hidden_states))"
   ]
  },
  {
   "cell_type": "markdown",
   "metadata": {
    "pycharm": {
     "is_executing": false,
     "name": "#%% md\n"
    }
   },
   "source": [
    "As discussed above, `hidden_states` is a tuple of the output of each layer in the model for each token. In the previous\n",
    "cell we saw that the tuple contains 13 items. When you execute the cell below, the architecture of the BertModel is\n",
    "shown (from top-down to the bottom). The `hidden_states` include the output of the `embeddings` layer and the output of\n",
    "all 12 `BertLayer`'s in the encoder. The output of each layer has a size of `(batch_size, sequence_length, 768)`.\n",
    "In our case, that is `(1, 5, 768)` because we only have one input string (batch size of 1), and our input string was\n",
    "tokenized into five IDs (sequence length of 5). `768` is the number of hidden dimensions.\n",
    "\n",
    "The critical reader will notice that there is still one more layer after the encoder, called `pooler`, which is not\n",
    "part of `hidden_states`. This layer is used to \"pool\" the output of the classification token but we will not use that \n",
    "here. Its output is returned in the second item of the output tuple `out`, as discussed before.\n",
    "\n",
    "For an in-depth analysis of BERT's architecture, I'd \n",
    "recommend to read [the paper](https://arxiv.org/abs/1810.04805). However, if you like a more visual explanation, \n",
    "[The Illustrated BERT](http://jalammar.github.io/illustrated-bert/) might be a better place to start."
   ]
  },
  {
   "cell_type": "code",
   "execution_count": 7,
   "metadata": {
    "pycharm": {
     "is_executing": false,
     "name": "#%% \n"
    }
   },
   "outputs": [
    {
     "name": "stdout",
     "text": [
      "BertModel(\n  (embeddings): BertEmbeddings(\n    (word_embeddings): Embedding(30522, 768, padding_idx=0)\n    (position_embeddings): Embedding(512, 768)\n    (token_type_embeddings): Embedding(2, 768)\n    (LayerNorm): LayerNorm((768,), eps=1e-12, elementwise_affine=True)\n    (dropout): Dropout(p=0.1, inplace=False)\n  )\n  (encoder): BertEncoder(\n    (layer): ModuleList(\n      (0): BertLayer(\n        (attention): BertAttention(\n          (self): BertSelfAttention(\n            (query): Linear(in_features=768, out_features=768, bias=True)\n            (key): Linear(in_features=768, out_features=768, bias=True)\n            (value): Linear(in_features=768, out_features=768, bias=True)\n            (dropout): Dropout(p=0.1, inplace=False)\n          )\n          (output): BertSelfOutput(\n            (dense): Linear(in_features=768, out_features=768, bias=True)\n            (LayerNorm): LayerNorm((768,), eps=1e-12, elementwise_affine=True)\n            (dropout): Dropout(p=0.1, inplace=False)\n          )\n        )\n        (intermediate): BertIntermediate(\n          (dense): Linear(in_features=768, out_features=3072, bias=True)\n        )\n        (output): BertOutput(\n          (dense): Linear(in_features=3072, out_features=768, bias=True)\n          (LayerNorm): LayerNorm((768,), eps=1e-12, elementwise_affine=True)\n          (dropout): Dropout(p=0.1, inplace=False)\n        )\n      )\n      (1): BertLayer(\n        (attention): BertAttention(\n          (self): BertSelfAttention(\n            (query): Linear(in_features=768, out_features=768, bias=True)\n            (key): Linear(in_features=768, out_features=768, bias=True)\n            (value): Linear(in_features=768, out_features=768, bias=True)\n            (dropout): Dropout(p=0.1, inplace=False)\n          )\n          (output): BertSelfOutput(\n            (dense): Linear(in_features=768, out_features=768, bias=True)\n            (LayerNorm): LayerNorm((768,), eps=1e-12, elementwise_affine=True)\n            (dropout): Dropout(p=0.1, inplace=False)\n          )\n        )\n        (intermediate): BertIntermediate(\n          (dense): Linear(in_features=768, out_features=3072, bias=True)\n        )\n        (output): BertOutput(\n          (dense): Linear(in_features=3072, out_features=768, bias=True)\n          (LayerNorm): LayerNorm((768,), eps=1e-12, elementwise_affine=True)\n          (dropout): Dropout(p=0.1, inplace=False)\n        )\n      )\n      (2): BertLayer(\n        (attention): BertAttention(\n          (self): BertSelfAttention(\n            (query): Linear(in_features=768, out_features=768, bias=True)\n            (key): Linear(in_features=768, out_features=768, bias=True)\n            (value): Linear(in_features=768, out_features=768, bias=True)\n            (dropout): Dropout(p=0.1, inplace=False)\n          )\n          (output): BertSelfOutput(\n            (dense): Linear(in_features=768, out_features=768, bias=True)\n            (LayerNorm): LayerNorm((768,), eps=1e-12, elementwise_affine=True)\n            (dropout): Dropout(p=0.1, inplace=False)\n          )\n        )\n        (intermediate): BertIntermediate(\n          (dense): Linear(in_features=768, out_features=3072, bias=True)\n        )\n        (output): BertOutput(\n          (dense): Linear(in_features=3072, out_features=768, bias=True)\n          (LayerNorm): LayerNorm((768,), eps=1e-12, elementwise_affine=True)\n          (dropout): Dropout(p=0.1, inplace=False)\n        )\n      )\n      (3): BertLayer(\n        (attention): BertAttention(\n          (self): BertSelfAttention(\n            (query): Linear(in_features=768, out_features=768, bias=True)\n            (key): Linear(in_features=768, out_features=768, bias=True)\n            (value): Linear(in_features=768, out_features=768, bias=True)\n            (dropout): Dropout(p=0.1, inplace=False)\n          )\n          (output): BertSelfOutput(\n            (dense): Linear(in_features=768, out_features=768, bias=True)\n            (LayerNorm): LayerNorm((768,), eps=1e-12, elementwise_affine=True)\n            (dropout): Dropout(p=0.1, inplace=False)\n          )\n        )\n        (intermediate): BertIntermediate(\n          (dense): Linear(in_features=768, out_features=3072, bias=True)\n        )\n        (output): BertOutput(\n          (dense): Linear(in_features=3072, out_features=768, bias=True)\n          (LayerNorm): LayerNorm((768,), eps=1e-12, elementwise_affine=True)\n          (dropout): Dropout(p=0.1, inplace=False)\n        )\n      )\n      (4): BertLayer(\n        (attention): BertAttention(\n          (self): BertSelfAttention(\n            (query): Linear(in_features=768, out_features=768, bias=True)\n            (key): Linear(in_features=768, out_features=768, bias=True)\n            (value): Linear(in_features=768, out_features=768, bias=True)\n            (dropout): Dropout(p=0.1, inplace=False)\n          )\n          (output): BertSelfOutput(\n            (dense): Linear(in_features=768, out_features=768, bias=True)\n            (LayerNorm): LayerNorm((768,), eps=1e-12, elementwise_affine=True)\n            (dropout): Dropout(p=0.1, inplace=False)\n          )\n        )\n        (intermediate): BertIntermediate(\n          (dense): Linear(in_features=768, out_features=3072, bias=True)\n        )\n        (output): BertOutput(\n          (dense): Linear(in_features=3072, out_features=768, bias=True)\n          (LayerNorm): LayerNorm((768,), eps=1e-12, elementwise_affine=True)\n          (dropout): Dropout(p=0.1, inplace=False)\n        )\n      )\n      (5): BertLayer(\n        (attention): BertAttention(\n          (self): BertSelfAttention(\n            (query): Linear(in_features=768, out_features=768, bias=True)\n            (key): Linear(in_features=768, out_features=768, bias=True)\n            (value): Linear(in_features=768, out_features=768, bias=True)\n            (dropout): Dropout(p=0.1, inplace=False)\n          )\n          (output): BertSelfOutput(\n            (dense): Linear(in_features=768, out_features=768, bias=True)\n            (LayerNorm): LayerNorm((768,), eps=1e-12, elementwise_affine=True)\n            (dropout): Dropout(p=0.1, inplace=False)\n          )\n        )\n        (intermediate): BertIntermediate(\n          (dense): Linear(in_features=768, out_features=3072, bias=True)\n        )\n        (output): BertOutput(\n          (dense): Linear(in_features=3072, out_features=768, bias=True)\n          (LayerNorm): LayerNorm((768,), eps=1e-12, elementwise_affine=True)\n          (dropout): Dropout(p=0.1, inplace=False)\n        )\n      )\n      (6): BertLayer(\n        (attention): BertAttention(\n          (self): BertSelfAttention(\n            (query): Linear(in_features=768, out_features=768, bias=True)\n            (key): Linear(in_features=768, out_features=768, bias=True)\n            (value): Linear(in_features=768, out_features=768, bias=True)\n            (dropout): Dropout(p=0.1, inplace=False)\n          )\n          (output): BertSelfOutput(\n            (dense): Linear(in_features=768, out_features=768, bias=True)\n            (LayerNorm): LayerNorm((768,), eps=1e-12, elementwise_affine=True)\n            (dropout): Dropout(p=0.1, inplace=False)\n          )\n        )\n        (intermediate): BertIntermediate(\n          (dense): Linear(in_features=768, out_features=3072, bias=True)\n        )\n        (output): BertOutput(\n          (dense): Linear(in_features=3072, out_features=768, bias=True)\n          (LayerNorm): LayerNorm((768,), eps=1e-12, elementwise_affine=True)\n          (dropout): Dropout(p=0.1, inplace=False)\n        )\n      )\n      (7): BertLayer(\n        (attention): BertAttention(\n          (self): BertSelfAttention(\n            (query): Linear(in_features=768, out_features=768, bias=True)\n            (key): Linear(in_features=768, out_features=768, bias=True)\n            (value): Linear(in_features=768, out_features=768, bias=True)\n            (dropout): Dropout(p=0.1, inplace=False)\n          )\n          (output): BertSelfOutput(\n            (dense): Linear(in_features=768, out_features=768, bias=True)\n            (LayerNorm): LayerNorm((768,), eps=1e-12, elementwise_affine=True)\n            (dropout): Dropout(p=0.1, inplace=False)\n          )\n        )\n        (intermediate): BertIntermediate(\n          (dense): Linear(in_features=768, out_features=3072, bias=True)\n        )\n        (output): BertOutput(\n          (dense): Linear(in_features=3072, out_features=768, bias=True)\n          (LayerNorm): LayerNorm((768,), eps=1e-12, elementwise_affine=True)\n          (dropout): Dropout(p=0.1, inplace=False)\n        )\n      )\n      (8): BertLayer(\n        (attention): BertAttention(\n          (self): BertSelfAttention(\n            (query): Linear(in_features=768, out_features=768, bias=True)\n            (key): Linear(in_features=768, out_features=768, bias=True)\n            (value): Linear(in_features=768, out_features=768, bias=True)\n            (dropout): Dropout(p=0.1, inplace=False)\n          )\n          (output): BertSelfOutput(\n            (dense): Linear(in_features=768, out_features=768, bias=True)\n            (LayerNorm): LayerNorm((768,), eps=1e-12, elementwise_affine=True)\n            (dropout): Dropout(p=0.1, inplace=False)\n          )\n        )\n        (intermediate): BertIntermediate(\n          (dense): Linear(in_features=768, out_features=3072, bias=True)\n        )\n        (output): BertOutput(\n          (dense): Linear(in_features=3072, out_features=768, bias=True)\n          (LayerNorm): LayerNorm((768,), eps=1e-12, elementwise_affine=True)\n          (dropout): Dropout(p=0.1, inplace=False)\n        )\n      )\n      (9): BertLayer(\n        (attention): BertAttention(\n          (self): BertSelfAttention(\n            (query): Linear(in_features=768, out_features=768, bias=True)\n            (key): Linear(in_features=768, out_features=768, bias=True)\n            (value): Linear(in_features=768, out_features=768, bias=True)\n            (dropout): Dropout(p=0.1, inplace=False)\n          )\n          (output): BertSelfOutput(\n            (dense): Linear(in_features=768, out_features=768, bias=True)\n            (LayerNorm): LayerNorm((768,), eps=1e-12, elementwise_affine=True)\n            (dropout): Dropout(p=0.1, inplace=False)\n          )\n        )\n        (intermediate): BertIntermediate(\n          (dense): Linear(in_features=768, out_features=3072, bias=True)\n        )\n        (output): BertOutput(\n          (dense): Linear(in_features=3072, out_features=768, bias=True)\n          (LayerNorm): LayerNorm((768,), eps=1e-12, elementwise_affine=True)\n          (dropout): Dropout(p=0.1, inplace=False)\n        )\n      )\n      (10): BertLayer(\n        (attention): BertAttention(\n          (self): BertSelfAttention(\n            (query): Linear(in_features=768, out_features=768, bias=True)\n            (key): Linear(in_features=768, out_features=768, bias=True)\n            (value): Linear(in_features=768, out_features=768, bias=True)\n            (dropout): Dropout(p=0.1, inplace=False)\n          )\n          (output): BertSelfOutput(\n            (dense): Linear(in_features=768, out_features=768, bias=True)\n            (LayerNorm): LayerNorm((768,), eps=1e-12, elementwise_affine=True)\n            (dropout): Dropout(p=0.1, inplace=False)\n          )\n        )\n        (intermediate): BertIntermediate(\n          (dense): Linear(in_features=768, out_features=3072, bias=True)\n        )\n        (output): BertOutput(\n          (dense): Linear(in_features=3072, out_features=768, bias=True)\n          (LayerNorm): LayerNorm((768,), eps=1e-12, elementwise_affine=True)\n          (dropout): Dropout(p=0.1, inplace=False)\n        )\n      )\n      (11): BertLayer(\n        (attention): BertAttention(\n          (self): BertSelfAttention(\n            (query): Linear(in_features=768, out_features=768, bias=True)\n            (key): Linear(in_features=768, out_features=768, bias=True)\n            (value): Linear(in_features=768, out_features=768, bias=True)\n            (dropout): Dropout(p=0.1, inplace=False)\n          )\n          (output): BertSelfOutput(\n            (dense): Linear(in_features=768, out_features=768, bias=True)\n            (LayerNorm): LayerNorm((768,), eps=1e-12, elementwise_affine=True)\n            (dropout): Dropout(p=0.1, inplace=False)\n          )\n        )\n        (intermediate): BertIntermediate(\n          (dense): Linear(in_features=768, out_features=3072, bias=True)\n        )\n        (output): BertOutput(\n          (dense): Linear(in_features=3072, out_features=768, bias=True)\n          (LayerNorm): LayerNorm((768,), eps=1e-12, elementwise_affine=True)\n          (dropout): Dropout(p=0.1, inplace=False)\n        )\n      )\n    )\n  )\n  (pooler): BertPooler(\n    (dense): Linear(in_features=768, out_features=768, bias=True)\n    (activation): Tanh()\n  )\n)\n"
     ],
     "output_type": "stream"
    }
   ],
   "source": [
    "print(model)"
   ]
  },
  {
   "cell_type": "markdown",
   "metadata": {
    "pycharm": {
     "name": "#%% md\n"
    }
   },
   "source": [
    "Now that we have all hidden_states, we may want to get a usable value out of it. Let's say that we want to retrieve a\n",
    "sentence embedding by averaging over all tokens. In other words, we want to reduce the size of `(1, 5, 768)` to\n",
    "`(1, 768)` where `1` is the batch size and `768` is the number of hidden dimensions. (One could also call `768` the \n",
    "features that you wish to use in another task.) There are many ways to make a sentence abstraction of tokens, and it \n",
    "often depends on the given task. Here, we will take the mean. For now, we will only use the output of the last layer in\n",
    "the encoder, that is, `hidden_states[-1]`. It is important to indicate that we want to take the `torch.mean`\n",
    "_over a given axis_. Since the size of the output of the layers is `(1, 5, 768)`, we want to average over the five \n",
    "tokens, which are in the second dimension (`dim=1`). "
   ]
  },
  {
   "cell_type": "code",
   "execution_count": 8,
   "metadata": {
    "pycharm": {
     "is_executing": false,
     "name": "#%%\n"
    }
   },
   "outputs": [
    {
     "name": "stdout",
     "text": [
      "tensor([ 2.7497e-01,  1.8313e-01, -8.8652e-02,  2.1698e-01,  3.1942e-01,\n        -1.1412e-01,  7.4039e-02,  3.7655e-01, -4.1821e-01,  9.9971e-02,\n        -9.0241e-02, -2.4298e-01,  1.5542e-01,  4.2042e-01, -2.5547e-01,\n         2.9753e-01, -2.9643e-01, -2.5810e-02,  8.5306e-02,  1.0182e-01,\n         3.0401e-01, -4.4263e-01,  3.1249e-02,  1.4435e-01,  3.0189e-01,\n         7.3913e-02, -2.5580e-01,  3.1384e-01, -1.4688e-01, -1.5202e-01,\n         7.0785e-02,  4.0448e-01, -1.1769e-01,  3.1848e-01,  2.8022e-02,\n        -1.6934e-01,  3.5639e-01, -2.2931e-01, -1.1899e-01, -1.1182e-01,\n        -1.6003e-01,  7.9355e-02,  5.1107e-01,  5.2223e-02, -1.5481e-01,\n         2.8229e-02, -1.4365e-01, -4.7737e-01, -5.6638e-01, -4.8802e-01,\n        -1.1429e-01,  2.8087e-01, -5.7160e-02,  2.3862e-01,  3.5440e-01,\n         5.8237e-01,  1.2777e-01,  1.0363e-01,  3.0538e-01,  2.0989e-01,\n         1.1693e-01,  2.6346e-01, -1.5832e-01, -1.1380e-01,  1.7189e-02,\n        -3.4662e-02,  1.1470e-01,  3.2023e-02, -1.9781e-01, -1.2561e-01,\n        -4.8289e-02, -2.4562e-01,  5.0646e-03, -2.4147e-02,  2.2932e-01,\n        -1.9112e-01, -4.4624e-01,  8.6932e-02, -6.9348e-02, -2.6828e-01,\n         3.0473e-01,  3.3020e-01,  1.4786e-01,  3.7107e-01, -7.5337e-02,\n         3.3730e-01, -2.6694e-01, -1.1731e-01,  7.5014e-02,  4.6462e-01,\n        -1.4554e-01,  2.2035e-02,  3.7995e-01,  3.0877e-01,  3.8794e-01,\n        -5.0270e-02, -8.4905e-02, -1.6390e-01,  5.2378e-01,  1.8881e-01,\n         2.1467e-02, -8.5598e-02,  2.4094e-01,  3.2501e-01, -2.4542e-01,\n        -2.2705e-01, -2.5746e-01,  2.9763e-01, -1.7600e-02, -8.6889e-01,\n         1.7624e-01,  2.9194e-02,  7.0749e-02, -2.1513e-01, -3.4476e-01,\n        -1.7142e-01,  3.5134e-01,  3.5487e-01, -1.6037e-01,  2.3332e-01,\n        -1.6640e-01,  1.5522e-02, -1.3603e-01,  9.8263e-01, -1.6572e-01,\n         8.6756e-02,  1.7276e-02,  3.1124e-02,  4.5487e-01,  9.1419e-02,\n        -1.2291e-01,  2.6948e-01,  7.5361e-02,  8.1167e-02, -2.8039e-01,\n         8.6070e-02,  2.8712e-01, -3.2012e-01, -1.0920e-01, -3.4677e-01,\n        -2.3220e-01,  1.7452e-01, -8.9247e-01, -3.8039e-01,  1.6933e-01,\n        -4.0088e-02,  7.6205e-02,  2.0971e-01,  4.3188e-01, -5.6367e-02,\n         4.2553e-01,  6.6853e-02, -4.0933e-01,  2.4338e-01, -9.9158e-02,\n        -1.1955e-01, -3.4792e-01, -7.9455e-02,  2.1929e-01,  3.0778e-01,\n         3.1282e-01,  8.8517e-02,  1.4369e-01,  1.2767e-02, -2.3661e-01,\n        -2.5115e-01, -1.8090e-02,  9.1526e-02,  2.6674e-03,  3.7868e-01,\n        -1.7585e-01, -1.7576e-01,  4.4584e-01, -3.5462e-01, -3.4920e-01,\n         4.2924e-02,  1.1444e-02,  5.6267e-01,  5.9518e-03,  4.5876e-02,\n        -1.8924e+00,  6.9178e-02,  4.4243e-01, -1.2978e-02,  3.2357e-01,\n        -5.8833e-03,  5.9261e-01, -6.0558e-01,  1.8617e-01, -3.9271e-01,\n         2.7042e-01, -3.7876e-01, -2.2174e-01,  1.2152e-01,  3.6275e-01,\n        -1.9326e-01,  6.0438e-02, -3.5042e-01,  1.2261e-01, -4.3831e-02,\n        -1.9312e-01,  1.5187e-01,  1.3780e-01, -9.7899e-02, -3.7317e-01,\n         1.2430e+00,  3.2932e-01, -1.9085e-01,  2.1563e-01, -1.0158e-01,\n        -1.9931e-01,  4.1641e-01,  7.6540e-02, -2.9979e-01, -6.5524e-03,\n        -7.7947e-02,  4.2823e-03, -5.3286e-02, -2.8932e-01, -3.4237e-01,\n         2.9741e-01, -7.0199e-02, -4.5928e-01,  2.9630e-01, -2.5724e-01,\n        -1.6242e-01, -8.9294e-02,  1.3588e-01,  1.9840e-01,  7.3456e-02,\n         2.5921e-01,  1.7004e-01,  1.0998e-01,  2.1080e-01, -3.7167e-01,\n         8.9602e-02, -2.4095e-02,  3.9413e-02,  9.6415e-02, -3.9217e-01,\n        -1.8365e-01,  1.1395e-01,  4.8770e-01,  1.1219e-03, -1.9569e-01,\n        -1.2228e-02,  3.1669e-01,  2.1529e-01,  2.5503e-01, -2.3742e-01,\n         3.5058e-02, -8.1064e-01,  2.4613e-03, -2.6651e-01,  4.3942e-01,\n         1.9389e-02,  6.3594e-02, -2.3803e-01,  9.2668e-02,  1.8258e-01,\n        -3.8494e-02,  2.3593e-01,  5.7420e-01, -2.0413e-01, -4.4064e-01,\n         5.3445e-02, -1.5976e-01,  1.8722e-02, -1.0571e-01,  1.6751e-01,\n        -5.6544e-02,  3.5808e-02, -1.6339e-01, -1.2839e+00, -1.0260e-01,\n        -6.7205e-02,  1.2519e-01,  9.1995e-02, -4.3033e-02, -7.7112e-02,\n        -1.9279e-01,  4.8786e-01, -4.6132e-02,  2.3583e-01, -5.8109e-01,\n        -3.5453e-01, -1.2584e-01, -1.9348e-01, -1.5997e-02,  8.0766e-02,\n         7.3317e-03,  3.1523e-01, -4.2058e-01, -2.6260e-01, -2.7528e-02,\n        -1.1586e-01,  5.3808e-03,  4.3207e-01,  2.3536e-01, -5.6140e-01,\n        -9.4499e-02, -1.6396e-01,  1.5114e-01,  2.6866e-01, -5.2128e-02,\n         2.1231e-01, -1.9071e-02, -3.1587e-01, -3.1075e+00, -9.8635e-02,\n        -2.5031e-01, -4.1425e-01,  2.7539e-01, -5.0086e-01, -1.8764e-01,\n        -1.1095e-01, -3.1184e-01, -1.1116e-01, -3.4540e-01, -2.2962e-01,\n         2.4196e-01,  2.2008e-01,  2.9891e-01, -1.4837e-01,  2.3513e-01,\n        -1.4459e-01, -7.1072e-02,  3.1104e-01,  8.4301e-02, -4.1443e-01,\n         1.9445e-01, -1.7383e-01,  1.0017e-01,  3.1795e-01, -2.7422e-01,\n         3.4965e-01, -4.7570e-01, -1.1109e-01, -4.1904e-01,  1.8018e-01,\n        -3.4424e-01, -4.1224e-01,  3.8817e-01,  5.1788e-02, -5.0654e-01,\n         1.2701e-01,  5.8633e-01, -7.6472e-02,  1.5943e-01,  4.0271e-01,\n        -1.7491e-01,  8.8954e-02,  4.1438e-01,  7.0470e-02, -2.2776e-01,\n        -5.2665e-01, -4.8418e-02,  4.7993e-01,  2.6683e-01,  5.4173e-02,\n         3.4134e-01, -2.9446e-02,  2.8612e-01, -1.2683e-01,  3.2365e-01,\n         1.5207e-02,  7.5879e-02, -2.1957e-01,  4.3722e-01, -1.9480e-01,\n        -1.4549e-01,  2.1158e-01, -1.9193e-01,  8.2931e-02, -2.9274e-01,\n        -3.1519e-02,  8.2016e-02,  1.0614e-02, -2.1728e-01, -2.4810e-01,\n         8.3924e-02, -9.3397e-01,  9.7814e-02, -8.4303e-02, -1.4857e-01,\n        -5.1369e-02,  3.3001e-01,  1.8646e-01,  1.0419e-01, -2.0374e-01,\n        -3.7991e-02, -1.5000e-01,  4.2839e-02, -1.1730e-01, -4.0050e-01,\n        -2.3397e-01, -7.2866e-01, -3.5928e-01,  4.2980e-01,  2.0247e-01,\n         4.7775e-02, -1.8988e-01,  1.4026e-01,  4.7262e-01,  2.9465e-01,\n        -4.6721e-01,  4.3352e-02, -1.1868e-01, -7.1534e-01, -3.5330e-01,\n         6.3016e-01, -4.8528e-01, -3.8961e-02, -2.2114e-01, -2.4189e-01,\n        -6.2859e-02, -1.5963e-01, -1.5015e-01,  2.2635e-01, -2.9310e-01,\n         1.4918e-01, -2.4853e-01,  1.8756e-01, -1.7818e-01,  1.5790e-02,\n         8.9519e-01, -9.1420e-02,  3.9348e-01,  3.9633e-02,  4.3769e-01,\n         8.2129e-02, -2.6583e-01,  1.0719e-01,  2.4877e-01,  4.1521e-01,\n        -3.0047e-01,  1.6897e-01, -1.7872e-01, -1.7884e-01, -3.6050e-02,\n         6.8344e-02, -3.4804e-01, -9.3207e-02, -3.3487e-02, -1.9079e-01,\n        -4.7730e-02,  2.1589e-01, -1.7649e-02,  1.0272e-01,  2.2214e-01,\n         2.4598e-02,  8.8886e-02, -1.9065e-02,  4.7939e-01,  1.7633e-01,\n         4.2462e-02,  4.0794e-01,  1.7895e-01, -3.6609e-01, -2.2922e-01,\n         1.1337e-01, -5.0475e-01,  2.0761e-01, -5.2469e-01,  2.5814e-01,\n         2.0181e-01, -2.5736e-02, -2.3437e-01, -4.9483e-02,  9.1705e-02,\n        -6.4364e-02,  1.2149e-01, -4.1186e-01,  9.7710e-02, -1.2508e-01,\n         4.0764e-02, -3.4717e-01,  3.8143e-01,  7.6530e-02, -1.9414e-01,\n         1.8410e-01, -1.1920e-02, -2.0051e-01,  1.1443e-01,  1.8088e-01,\n        -1.7253e-01, -1.7402e-01,  1.1461e-01, -2.6830e-01, -9.8872e-02,\n         3.9775e-02,  1.3449e-01, -1.6283e-01,  2.1164e-03, -7.8610e-02,\n        -4.6200e-01,  5.7786e-01,  1.1279e-01,  1.9048e-01, -3.5723e-02,\n         2.1164e-01, -1.4711e-02, -3.3993e-01, -1.2703e-01,  1.0326e-01,\n         5.0947e-03,  3.7435e-01,  1.7189e-01,  5.8345e-01,  1.6680e-02,\n        -1.5684e-01,  1.5378e-01,  2.2153e-01, -2.6531e-01,  2.5017e-01,\n         4.2574e-01, -1.5066e-01,  2.1265e-01,  1.1999e-01, -4.2866e-01,\n         2.5087e-02,  2.5251e-01,  1.4382e-01,  2.3328e-01,  2.0313e-01,\n         1.7169e-01,  2.3621e-02,  5.1524e-02, -4.0105e-02, -2.4421e-01,\n        -3.3788e-01, -2.7906e-01,  8.5631e-02,  3.7364e-01,  3.3528e-01,\n        -2.2078e-01, -4.9876e-03,  4.2258e-02,  1.6184e-01,  2.2989e-01,\n         1.0930e-01,  9.5693e-02,  5.9743e-01,  6.8596e-01, -3.4541e-01,\n        -3.4690e-02, -4.9943e-02, -4.3828e-02, -9.8949e-03, -1.8422e-02,\n         6.7103e-02, -2.2258e-02, -2.2984e-02, -4.0703e-01,  2.6124e-01,\n         4.1154e-01, -2.2699e-02, -1.9614e-01, -9.2900e-02, -7.1759e-02,\n        -1.3627e-01, -2.9177e-01, -9.5443e-03, -2.9971e-01, -2.9885e-02,\n         4.1862e-01,  5.2153e-02,  6.1978e-02, -1.9548e-01,  1.2748e-01,\n         1.7454e-02,  2.9819e-01, -1.5988e-01,  1.5838e-02, -8.1304e-02,\n         1.8233e-02,  7.7923e-02,  1.7629e-01,  1.3150e-01, -1.5991e-01,\n         2.5084e-01,  2.5934e-01, -2.0483e-01,  3.1097e-02,  3.3086e-01,\n        -5.5236e-01, -1.7119e-02, -1.7480e-01,  5.3123e-01,  3.7780e-01,\n         1.3010e-01, -4.2269e-02,  2.4855e-01, -3.1270e-01, -5.0033e-01,\n         3.0209e-01, -5.2464e-01,  2.9338e-03,  9.4141e-01, -1.9262e-01,\n         1.2447e-02, -5.6114e-02, -3.5636e-01,  1.8700e-01, -4.5735e-02,\n         7.4748e-02, -2.0243e-01,  2.5534e-01, -3.2713e-01,  3.1265e-01,\n        -3.5376e-01, -5.1488e-02,  1.4935e-01, -3.9786e-02,  1.0336e-02,\n        -5.6745e-01, -8.2600e-02, -2.4669e-01, -1.2936e-01, -2.3212e-01,\n         7.3379e-02,  4.0745e-01, -1.6200e-01, -7.2631e-02,  1.1524e-01,\n        -1.4988e-01, -7.2060e-02,  5.8054e-01, -1.8932e-02,  1.1245e-01,\n         3.2097e-01, -2.5848e-01,  3.1161e-01,  3.9392e-01, -3.5412e-01,\n        -1.9400e-01, -1.5293e-01, -2.4102e-01, -3.0125e-02,  3.7008e-01,\n         2.2403e-01,  7.8257e-02, -2.6900e-01, -3.4572e-01, -2.6426e-03,\n         1.7713e-02, -1.1895e-01,  4.3233e-02, -8.8319e-02,  4.5465e-03,\n        -2.5439e-01,  1.4728e-01,  4.8581e-01,  4.9114e-02, -1.8314e-01,\n        -5.9602e-02,  1.2808e-01, -5.5221e-02, -2.2270e-01, -3.5185e-01,\n         9.6983e-02,  1.9694e-01, -4.9658e-02, -2.3089e-01,  9.6932e-02,\n        -5.9364e-02, -1.0977e-01, -1.0774e+00, -1.7037e-01, -5.0538e-01,\n        -1.3686e-01, -4.6037e-01,  1.6326e-01,  5.6601e-01,  6.3967e-02,\n        -2.1306e-01, -1.4903e-01,  2.7365e-01,  7.4819e-02, -5.1872e-03,\n        -5.4666e-02,  4.2225e-01, -1.0746e-01,  3.5039e-02, -3.6283e-01,\n         4.7700e-02, -3.4952e-02,  2.4087e-01, -1.5248e-02, -1.0470e-01,\n        -2.1243e-01, -5.1084e-01,  3.7812e-02, -2.0370e-01,  8.7614e-03,\n        -5.5483e-03, -1.4413e-02, -1.5388e-01,  2.1188e-01,  6.3783e-02,\n         2.0168e-01, -4.1447e-01,  1.8987e-01,  1.7409e-01,  1.5857e-01,\n         1.0428e-02, -2.3079e-01, -2.0696e-01,  1.5372e-01, -1.3400e-01,\n        -6.5152e-02, -9.0121e-02,  1.3587e-01, -1.1827e-01, -2.9220e-02,\n         9.5783e-02,  6.6440e-02, -2.1316e-02, -2.3742e-01, -1.7472e-01,\n        -7.9916e-01,  4.4483e-02,  2.8404e-01, -2.2308e-02, -5.6764e-02,\n         1.9825e-01, -2.0278e-01,  3.3376e-01, -5.7932e-02, -2.7878e-01,\n         4.6812e-01,  2.6236e-01, -9.5878e-02, -1.5614e-01, -1.8900e-01,\n        -4.5504e-02, -1.4836e-01, -7.0388e-02, -2.5256e-01, -3.6207e-02,\n        -2.3713e-01,  1.1566e-01, -6.3016e-02, -1.5543e-01, -1.6353e-01,\n         1.1100e-01, -5.8401e-02, -4.0934e-01, -5.6329e-02, -1.1422e-01,\n         4.5686e-01,  1.9147e-01, -2.4061e+00, -1.3890e-01,  4.9572e-02,\n         1.0699e-01,  1.8370e-01, -4.5469e-02, -8.1192e-02, -1.1795e-01,\n        -1.3250e-01, -3.6431e-02,  2.8795e-01, -7.0327e-02,  9.9012e-02,\n         7.5754e-02, -8.5289e-02, -2.4367e-02], device='cuda:0')\ntorch.Size([768])\n"
     ],
     "output_type": "stream"
    }
   ],
   "source": [
    "sentence_embedding = torch.mean(hidden_states[-1], dim=1).squeeze()\n",
    "print(sentence_embedding)\n",
    "print(sentence_embedding.size())"
   ]
  },
  {
   "cell_type": "markdown",
   "metadata": {
    "pycharm": {
     "name": "#%% md\n"
    }
   },
   "source": [
    "**We now have a vector of 768 features representing our input sentence.** But we can do more! The BERT paper discusses\n",
    "how they reached the best results by concatenating the output of the last four layers.\n",
    "\n",
    "![BERT embeddings visualization](img/bert-feature-extraction-contextualized-embeddings.png)\n",
    "\n",
    "In our example, that means that\n",
    "we need to get the last four layers of `hidden_states` and concatenate them after which we can take the mean. We want\n",
    "to concatenate across the axis of the hidden dimensions of `768`. As a consequence, our concatenated output vector will\n",
    "be of size `(1, 5, 3072)` where `3072=4*768`, i.e. the concatenation of four layers with a hidden dimension of 768. The\n",
    "concatenated vector is much larger than the output of only a single layer, meaning that it contains a lot more features.\n",
    "Do note, as usual, that it depends on your specific task whether these `3072` features perform better than `768`.\n",
    "\n",
    "Having a vector of shape `(1, 5, 3072)`, we still need to take the mean over the token dimension, as we did before. We\n",
    "end up with one feature vector of size `(3072,)`. "
   ]
  },
  {
   "cell_type": "code",
   "execution_count": 9,
   "metadata": {
    "pycharm": {
     "is_executing": false,
     "name": "#%%\n"
    }
   },
   "outputs": [
    {
     "name": "stdout",
     "text": [
      "torch.Size([1, 5, 3072])\ntensor([ 0.2750,  0.1831, -0.0887,  ...,  0.2894, -0.0034,  0.0764],\n       device='cuda:0')\ntorch.Size([3072])\n"
     ],
     "output_type": "stream"
    }
   ],
   "source": [
    "# get last four layers\n",
    "last_four_layers = [hidden_states[i] for i in (-1, -2, -3, -4)]\n",
    "# cast layers to a tuple and concatenate over the last dimension\n",
    "cat_hidden_states = torch.cat(tuple(last_four_layers), dim=-1)\n",
    "print(cat_hidden_states.size())\n",
    "\n",
    "# take the mean of the concatenated vector over the token dimension\n",
    "cat_sentence_embedding = torch.mean(cat_hidden_states, dim=1).squeeze()\n",
    "print(cat_sentence_embedding)\n",
    "print(cat_sentence_embedding.size())"
   ]
  },
  {
   "cell_type": "markdown",
   "metadata": {
    "pycharm": {
     "name": "#%% md\n"
    }
   },
   "source": [
    "## Saving and loading results\n",
    "\n",
    "It is likely that you want to use your generated feature vector in another model or task and just save them to your \n",
    "hard drive. You can easily save a tensor with `torch.save` and load it in another script with `torch.load`. Typically,\n",
    "the `.pt` (PyTorch) extension is used. Note that you cannot read the saved file with a text editor. It is a pickled\n",
    "object which allows for efficient (de)compression. If you do want to save your tensors in a readable format, you can\n",
    "convert a tensor to numpy and using something like `np.savetxt('tensor.txt', your_tensor.numpy())`. I do not recommend\n",
    "that approach (I'd stick with `torch.save` or another compression technique) but it is possible.\n",
    "\n",
    "See how we use `.cpu()`? `cpu()` tells PyTorch that we want to move the output tensor back from the GPU to the CPU. \n",
    "This is not a required step, but I think it is good practice when doing feature extraction to move your data to CPU so\n",
    "that when you load it, it is also loaded as a CPU tensor rather than a CUDA tensor. Afterwards you can still move \n",
    "things to GPU if need be, but using CPU by default seems like a good idea. Note that a tensor has to be on CPU if you\n",
    "want to convert it to `.numpy()`, though."
   ]
  },
  {
   "cell_type": "code",
   "execution_count": 10,
   "metadata": {
    "pycharm": {
     "is_executing": false,
     "name": "#%%\n"
    }
   },
   "outputs": [
    {
     "name": "stdout",
     "text": [
      "tensor([ 0.2750,  0.1831, -0.0887,  ...,  0.2894, -0.0034,  0.0764])\ntorch.Size([3072])\n[ 0.2749733   0.18313345 -0.0886516  ...  0.2893934  -0.00340437\n  0.07635471]\n<class 'numpy.ndarray'>\n"
     ],
     "output_type": "stream"
    }
   ],
   "source": [
    "# save our created sentence representation\n",
    "torch.save(cat_sentence_embedding.cpu(), 'my_sent_embed.pt')\n",
    "\n",
    "# load it again\n",
    "loaded_tensor = torch.load('my_sent_embed.pt')\n",
    "print(loaded_tensor)\n",
    "print(loaded_tensor.size())\n",
    "\n",
    "# convert it to numpy to use in e.g. sklearn\n",
    "np_loaded_tensor = loaded_tensor.numpy()\n",
    "print(np_loaded_tensor)\n",
    "print(type(np_loaded_tensor))\n"
   ]
  }
 ],
 "metadata": {
  "kernelspec": {
   "display_name": "Python 3",
   "language": "python",
   "name": "python3"
  },
  "language_info": {
   "codemirror_mode": {
    "name": "ipython",
    "version": 3
   },
   "file_extension": ".py",
   "mimetype": "text/x-python",
   "name": "python",
   "nbconvert_exporter": "python",
   "pygments_lexer": "ipython3",
   "version": "3.6.8"
  },
  "pycharm": {
   "stem_cell": {
    "cell_type": "raw",
    "source": [],
    "metadata": {
     "collapsed": false
    }
   }
  }
 },
 "nbformat": 4,
 "nbformat_minor": 2
}