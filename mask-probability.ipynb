{
 "cells": [
  {
   "cell_type": "code",
   "execution_count": 1,
   "metadata": {
    "pycharm": {
     "is_executing": false
    }
   },
   "outputs": [],
   "source": [
    "import torch\n",
    "from torch.distributions import Categorical\n",
    "from transformers import RobertaTokenizer, RobertaForMaskedLM"
   ]
  },
  {
   "cell_type": "code",
   "execution_count": 2,
   "metadata": {
    "pycharm": {
     "is_executing": false,
     "name": "#%%\n"
    }
   },
   "outputs": [],
   "source": [
    "model = RobertaForMaskedLM.from_pretrained('roberta-base')\n",
    "tokenizer = RobertaTokenizer.from_pretrained('roberta-base')\n",
    "device = 'cuda' if torch.cuda.is_available() else 'cpu'\n",
    "\n",
    "model.eval()\n",
    "model.to(device)"
   ]
  },
  {
   "cell_type": "markdown",
   "metadata": {
    "pycharm": {
     "is_executing": false,
     "name": "#%% md\n"
    }
   },
   "source": [
    "## Predicting a masked token"
   ]
  },
  {
   "cell_type": "code",
   "execution_count": 3,
   "outputs": [],
   "source": [
    "# encode the masked sentence\n",
    "tokens_tensor = tokenizer.encode(f\"I don't {tokenizer.mask_token} you!\", return_tensors='pt').squeeze()\n",
    "# get the position of the [MASK] token\n",
    "masked_idx = tokens_tensor == tokenizer.mask_token_id\n",
    "\n",
    "# batch size 1, so add dimension\n",
    "tokens_tensor = tokens_tensor.unsqueeze(0)\n",
    "tokens_tensor = tokens_tensor.to(device)\n",
    "# Get outputs for all tokens\n",
    "with torch.no_grad():\n",
    "    outputs = model(input_ids=tokens_tensor)\n",
    "    predictions = outputs[0]\n",
    "\n",
    "predicted_index = torch.argmax(predictions[0, masked_idx]).item()\n",
    "predicted_token = tokenizer.convert_ids_to_tokens([predicted_index])[0]\n",
    "print(predicted_token)\n"
   ],
   "metadata": {
    "collapsed": false,
    "pycharm": {
     "name": "#%%\n",
     "is_executing": false
    }
   }
  },
  {
   "cell_type": "markdown",
   "metadata": {
    "pycharm": {
     "is_executing": false,
     "name": "#%% md\n"
    }
   },
   "source": [
    "## Finding probability of given token in mask position"
   ]
  },
  {
   "cell_type": "code",
   "execution_count": 4,
   "outputs": [],
   "source": [
    "sm = torch.nn.Softmax(dim=0).to(device)\n",
    "\n",
    "# get only the predictions for the masked token\n",
    "preds = predictions[0, masked_idx].squeeze()\n",
    "\n",
    "orig_str = 'banana'\n",
    "orig_token = tokenizer.encode(orig_str, add_special_tokens=False)\n",
    "edit_str = 'like'\n",
    "edit_token = tokenizer.encode(edit_str, add_special_tokens=False)\n",
    "\n",
    "# convert outputs to probabilities\n",
    "soft_predictions = sm(preds)\n",
    "\n",
    "def get_token_prob(_preds, _token_ids):\n",
    "    return _preds[_token_ids].sum().item()\n",
    "\n",
    "print(orig_str, get_token_prob(soft_predictions, orig_token))\n",
    "print(edit_str, get_token_prob(soft_predictions, edit_token))"
   ],
   "metadata": {
    "collapsed": false,
    "pycharm": {
     "name": "#%%\n",
     "is_executing": false
    }
   }
  },
  {
   "cell_type": "markdown",
   "metadata": {
    "pycharm": {
     "is_executing": false,
     "name": "#%% md\n"
    }
   },
   "source": [
    "## Calculate the perplexity of a given token (here of the mask)"
   ]
  },
  {
   "cell_type": "code",
   "execution_count": 5,
   "outputs": [],
   "source": [
    "entropy = Categorical(probs=soft_predictions).entropy().item()\n",
    "perplexity = 2 ** entropy\n",
    "print('entropy', entropy)\n",
    "print('perplexity', perplexity)"
   ],
   "metadata": {
    "collapsed": false,
    "pycharm": {
     "name": "#%%\n",
     "is_executing": false
    }
   }
  },
  {
   "cell_type": "markdown",
   "source": [],
   "metadata": {
    "collapsed": false,
    "pycharm": {
     "name": "#%% md\n"
    }
   }
  }
 ],
 "metadata": {
  "kernelspec": {
   "display_name": "Python 3",
   "language": "python",
   "name": "python3"
  },
  "language_info": {
   "codemirror_mode": {
    "name": "ipython",
    "version": 3
   },
   "file_extension": ".py",
   "mimetype": "text/x-python",
   "name": "python",
   "nbconvert_exporter": "python",
   "pygments_lexer": "ipython3",
   "version": "3.6.8"
  },
  "pycharm": {
   "stem_cell": {
    "cell_type": "raw",
    "source": [],
    "metadata": {
     "collapsed": false
    }
   }
  }
 },
 "nbformat": 4,
 "nbformat_minor": 1
}